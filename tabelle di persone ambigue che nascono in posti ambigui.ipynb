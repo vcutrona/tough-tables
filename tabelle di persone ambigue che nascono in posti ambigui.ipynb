{
 "cells": [
  {
   "cell_type": "code",
   "execution_count": 1,
   "metadata": {},
   "outputs": [],
   "source": [
    "import SPARQLWrapper"
   ]
  },
  {
   "cell_type": "code",
   "execution_count": 67,
   "metadata": {},
   "outputs": [],
   "source": [
    "city_list = [\"Paris\", \"Rome\", \"Berlin\", \"Florence\", \"London\", \"Liverpool\", \"Manchester\"]"
   ]
  },
  {
   "cell_type": "code",
   "execution_count": 52,
   "metadata": {},
   "outputs": [],
   "source": [
    "from SPARQLWrapper import SPARQLWrapper, JSON\n",
    "\n",
    "def get_ambiguous_city(city):\n",
    "    search_city = city + \"_(disambiguation)\"\n",
    "    \n",
    "    sparql = SPARQLWrapper(\"http://dbpedia.org/sparql\")\n",
    "    sparql.setQuery(\"\"\"\n",
    "        PREFIX rdfs: <http://www.w3.org/2000/01/rdf-schema#>\n",
    "        SELECT ?dis\n",
    "\n",
    "        WHERE { <http://dbpedia.org/resource/\"\"\" + search_city+\"\"\"> dbo:wikiPageDisambiguates ?dis .\n",
    "               ?dis a dbo:City}\n",
    "    \"\"\")\n",
    "    sparql.setReturnFormat(JSON)\n",
    "    results = sparql.query().convert()\n",
    "\n",
    "\n",
    "    collect = []\n",
    "    for result in results[\"results\"][\"bindings\"]:\n",
    "        \n",
    "        saving = result[\"dis\"][\"value\"]\n",
    "        if saving == \"http://dbpedia.org/resource/\" + city:\n",
    "            continue\n",
    "        \n",
    "        collect.append(saving)\n",
    "        \n",
    "        \n",
    "    return collect"
   ]
  },
  {
   "cell_type": "code",
   "execution_count": 66,
   "metadata": {},
   "outputs": [
    {
     "data": {
      "text/plain": [
       "['http://dbpedia.org/resource/Manchester,_Georgia',\n",
       " 'http://dbpedia.org/resource/Manchester,_Iowa',\n",
       " 'http://dbpedia.org/resource/Manchester,_Kansas',\n",
       " 'http://dbpedia.org/resource/Manchester,_Kentucky',\n",
       " 'http://dbpedia.org/resource/Manchester,_Minnesota',\n",
       " 'http://dbpedia.org/resource/Manchester,_Missouri',\n",
       " 'http://dbpedia.org/resource/Manchester,_New_Hampshire',\n",
       " 'http://dbpedia.org/resource/Manchester,_Tennessee']"
      ]
     },
     "execution_count": 66,
     "metadata": {},
     "output_type": "execute_result"
    }
   ],
   "source": [
    "get_ambiguous_city(\"Manchester\")"
   ]
  },
  {
   "cell_type": "code",
   "execution_count": 46,
   "metadata": {},
   "outputs": [],
   "source": [
    "def get_born_ambiguous_city(city):\n",
    "    \n",
    "    sparql = SPARQLWrapper(\"http://dbpedia.org/sparql\")\n",
    "    sparql.setQuery(\"\"\"\n",
    "        PREFIX rdfs: <http://www.w3.org/2000/01/rdf-schema#>\n",
    "        SELECT ?dis ?date ?country\n",
    "        WHERE { ?dis dbo:birthPlace <http://dbpedia.org/resource/\"\"\" + city+\"\"\"> . \n",
    "                <http://dbpedia.org/resource/\"\"\" + city+\"\"\"> dbo:country ?country .\n",
    "                ?dis dbo:birthDate ?date}\n",
    "    \"\"\")\n",
    "    sparql.setReturnFormat(JSON)\n",
    "    results = sparql.query().convert()\n",
    "\n",
    "\n",
    "    collect = []\n",
    "    for result in results[\"results\"][\"bindings\"]:\n",
    "        \n",
    "        saving = result[\"dis\"][\"value\"]\n",
    "        if saving == \"http://dbpedia.org/resource/\" + city:\n",
    "            continue\n",
    "        collect.append((saving, result[\"date\"][\"value\"], city, result[\"country\"][\"value\"]))\n",
    "        \n",
    "    collect = list(filter(lambda x : \"_(\" in x[0], collect))\n",
    "    return collect"
   ]
  },
  {
   "cell_type": "code",
   "execution_count": 51,
   "metadata": {},
   "outputs": [
    {
     "name": "stdout",
     "output_type": "stream",
     "text": [
      "Bill_Butler_(American_football) 1937-07-10 Berlin,_Wisconsin http://dbpedia.org/resource/United_States\n",
      "Bill_Butler_(American_football) 1937-7-10 Berlin,_Wisconsin http://dbpedia.org/resource/United_States\n"
     ]
    }
   ],
   "source": [
    "for a,b,c,d in get_born_ambiguous_city(\"Berlin,_Wisconsin\"):\n",
    "    print(a.split(\"/\")[-1],b,c,d)"
   ]
  },
  {
   "cell_type": "code",
   "execution_count": null,
   "metadata": {},
   "outputs": [],
   "source": []
  }
 ],
 "metadata": {
  "kernelspec": {
   "display_name": "topicmodel",
   "language": "python",
   "name": "topicmodel"
  },
  "language_info": {
   "codemirror_mode": {
    "name": "ipython",
    "version": 3
   },
   "file_extension": ".py",
   "mimetype": "text/x-python",
   "name": "python",
   "nbconvert_exporter": "python",
   "pygments_lexer": "ipython3",
   "version": "3.7.5"
  }
 },
 "nbformat": 4,
 "nbformat_minor": 4
}
